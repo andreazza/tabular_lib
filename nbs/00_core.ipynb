{
 "cells": [
  {
   "cell_type": "markdown",
   "metadata": {},
   "source": [
    "# tab\n",
    "\n",
    "> library to work with tabular ML cases"
   ]
  },
  {
   "cell_type": "code",
   "execution_count": null,
   "metadata": {},
   "outputs": [],
   "source": [
    "#| default_exp tab"
   ]
  },
  {
   "cell_type": "code",
   "execution_count": null,
   "metadata": {},
   "outputs": [],
   "source": [
    "#| export\n",
    "from fastcore.foundation import patch\n",
    "from fastcore.utils import *\n",
    "from fastai.tabular.all import *\n",
    "from fastai import *\n",
    "from fastbook import *\n",
    "import pandas as pd\n",
    "import numpy as np\n",
    "import sys\n",
    "from datetime import date"
   ]
  },
  {
   "cell_type": "code",
   "execution_count": null,
   "metadata": {},
   "outputs": [],
   "source": [
    "#| hide\n",
    "import nbdev; nbdev.nbdev_export()\n",
    "from nbdev.showdoc import *\n",
    "from fastcore.test import *"
   ]
  },
  {
   "cell_type": "code",
   "execution_count": null,
   "metadata": {},
   "outputs": [],
   "source": [
    "#| export\n",
    "class TabData:\n",
    "    \"\"\" \n",
    "        class with main functionality\n",
    "        has the following instance variables:\n",
    "            self.data_path\n",
    "            self.data_var\n",
    "            self.cont (continuous variables)        \n",
    "            self.cat (categorical variables)  \n",
    "            self.tabobj (object of class TabularPandas)\n",
    "    \"\"\"\n",
    "    def __init__(self,\n",
    "                 data_path: str, # path to find data file; expects csv file\n",
    "                 dep_var:str=''): # dependent variable\n",
    "        \n",
    "        self.data = pd.read_csv(data_path, low_memory=False)\n",
    "        self.dep_var = dep_var\n",
    "        self.cont, self.cat = [], []\n",
    "        self.tabobj = None              \n",
    "                 "
   ]
  },
  {
   "cell_type": "code",
   "execution_count": null,
   "metadata": {},
   "outputs": [],
   "source": [
    "#| export\n",
    "@patch\n",
    "def preprocess_ordinal(self:TabData, \n",
    "                       cat_col:str, # categorical columns to order\n",
    "                       order):\n",
    "        \"\"\"\n",
    "        preprocess ordinal categorical column\n",
    "\n",
    "        :return: None\n",
    "        \"\"\"\n",
    "        self.data[cat_col] = \\\n",
    "            self.data[cat_col].astype('category')\n",
    "        self.data[cat_col].cat.set_categories(order,\n",
    "                            ordered=True, inplace=True)"
   ]
  },
  {
   "cell_type": "code",
   "execution_count": null,
   "metadata": {},
   "outputs": [],
   "source": [
    "#| export\n",
    "@patch\n",
    "def log_dep_var(self:TabData):\n",
    "        \"\"\"\n",
    "        Applies log to dependent variable\n",
    "        \n",
    "        :return: None\n",
    "        \"\"\"\n",
    "        if self.data is None:\n",
    "            raise ValueError('data not set')\n",
    "        if self.dep_var == '':\n",
    "            raise ValueError('dep_var not set')\n",
    "\n",
    "        self.data[self.dep_var] = np.log(self.data[self.dep_var])"
   ]
  },
  {
   "cell_type": "code",
   "execution_count": null,
   "metadata": {},
   "outputs": [],
   "source": [
    "#| export\n",
    "@patch\n",
    "def exp_dep_var(self:TabData):\n",
    "        \"\"\"\n",
    "        Applies exp to dependent variable\n",
    "        Inverse of self.exp_dep_var\n",
    "        :return: None\n",
    "        \"\"\"\n",
    "        if self.data is None:\n",
    "            raise ValueError('data not set')\n",
    "        if self.dep_var == '':\n",
    "            raise ValueError('dep_var not set')\n",
    "\n",
    "        self.data[self.dep_var] = np.log(self.data[self.dep_var])"
   ]
  },
  {
   "cell_type": "code",
   "execution_count": null,
   "metadata": {},
   "outputs": [],
   "source": [
    "#| export\n",
    "@patch\n",
    "def convert_to_date(self:TabData, \n",
    "                    date_cols:[str]): #list of date columns\n",
    "        \"\"\"\n",
    "        Convert date_cols to date\n",
    "        \n",
    "        :return: None\n",
    "        \"\"\"\n",
    "        for col in date_cols:            \n",
    "            self.data[col] = pd.to_datetime(self.data[col],\n",
    "                    infer_datetime_format=True).dt.date"
   ]
  },
  {
   "cell_type": "code",
   "execution_count": null,
   "metadata": {},
   "outputs": [],
   "source": [
    "#| export\n",
    "@patch\n",
    "def get_train_valid_idxs_time_series(self:TabData, \n",
    "                                     year:int, # year \n",
    "                                     month:int, # month \n",
    "                                     day:int, # day \n",
    "                                     date_col): # data column of reference\n",
    "        \"\"\"\n",
    "        \n",
    "        ATENCAO: VEJA SE O CÓDIGO DESTE MÉTODO ESTÁ CORRETO\n",
    "        \n",
    "        Returns training and validation index\n",
    "        training idx: before date(year, month, day)\n",
    "        validation idx: from date(year, month, day) onwards\n",
    "        \n",
    "        :return (list[int], list[int]): (train_idx, valid_idx)\n",
    "        \"\"\"    \n",
    "        cond = self.data[date_col] < date(2011,11,1)\n",
    "        train_idx = np.where(cond)[0]\n",
    "        valid_idx = np.where(~cond)[0]\n",
    "        \n",
    "        return (list(train_idx), list(valid_idx))"
   ]
  },
  {
   "cell_type": "code",
   "execution_count": null,
   "metadata": {},
   "outputs": [],
   "source": [
    "#| export\n",
    "@patch\n",
    "def handling_dates(self:TabData, \n",
    "                   date_cols): # date columns\n",
    "        \"\"\"\n",
    "        Handles dates applying fastai function `add_datepart`\n",
    "        \n",
    "        :return: None\n",
    "        \"\"\"\n",
    "\n",
    "        self.data = add_datepart(self.data, date_cols)"
   ]
  },
  {
   "cell_type": "code",
   "execution_count": null,
   "metadata": {},
   "outputs": [],
   "source": [
    "#| export\n",
    "@patch\n",
    "def create_tab_obj(self:TabData, \n",
    "                   splits=None, # a pair (training indexes, validation indexes) \n",
    "                   procs=[Categorify, FillMissing]): # transformations applied to data\n",
    "        \"\"\"\n",
    "        Creates tabobj, instance of TabularPandas\n",
    "        \n",
    "        :return: None\n",
    "        \"\"\"\n",
    "        \n",
    "        self.cont, self.cat = cont_cat_split(self.data, 1, \n",
    "                                             dep_var=self.dep_var)\n",
    "        \n",
    "        self.tabobj = TabularPandas(self.data, procs, self.cat, self.cont, \n",
    "                           y_names=self.dep_var, splits=splits)"
   ]
  }
 ],
 "metadata": {
  "kernelspec": {
   "display_name": "Python 3 (ipykernel)",
   "language": "python",
   "name": "python3"
  }
 },
 "nbformat": 4,
 "nbformat_minor": 4
}
